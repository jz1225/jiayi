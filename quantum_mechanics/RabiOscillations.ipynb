{
  "cells": [
    {
      "cell_type": "markdown",
      "metadata": {
        "id": "T7NnnLq3x1WE"
      },
      "source": [
        "# Rabi Oscillations"
      ]
    },
    {
      "cell_type": "markdown",
      "metadata": {
        "id": "5lxFrgICx1WH"
      },
      "source": [
        "* **Author:**\n",
        "\n",
        "* **Date:**\n",
        "\n",
        "* **Time spent on this assignment:**"
      ]
    },
    {
      "cell_type": "code",
      "execution_count": null,
      "metadata": {
        "tags": [
          "hide-output"
        ],
        "id": "hQibdGe6x1WH"
      },
      "outputs": [],
      "source": [
        "import numpy as np\n",
        "import pylab as plt\n",
        "import qutip\n",
        "import scipy\n",
        "import scipy.linalg\n",
        "from matplotlib.animation import FuncAnimation\n",
        "from IPython.display import HTML\n",
        "import matplotlib.animation as animation\n",
        "\n",
        "def resetMe(keepList=[]):\n",
        "    ll=%who_ls\n",
        "    keepList=keepList+['FuncAnimation','HTML','resetMe','scipy','np','plt','math','jax','jnp','jit','grad','HTML','animation','qutip','animation','FuncAnimation']\n",
        "    for iiii in keepList:\n",
        "        if iiii in ll:\n",
        "            ll.remove(iiii)\n",
        "    for iiii in ll:\n",
        "        jjjj=\"^\"+iiii+\"$\"\n",
        "        %reset_selective -f {jjjj}\n",
        "    ll=%who_ls\n",
        "    plt.rcParams.update({\"font.size\": 14})\n",
        "    return\n",
        "resetMe()\n",
        "import datetime;datetime.datetime.now()"
      ]
    },
    {
      "cell_type": "code",
      "execution_count": null,
      "metadata": {
        "tags": [
          "hide-output"
        ],
        "id": "KwFYBNFUx1WI"
      },
      "outputs": [],
      "source": [
        "\n",
        "\n",
        "def PlotBloch(v, bb, makeVector=False):\n",
        "    vv = np.asarray(v)\n",
        "    a = vv[0] * np.conj(vv[0])\n",
        "    b = vv[1] * np.conj(vv[0])\n",
        "    x = np.real(2.0 * b.real)\n",
        "    y = np.real(2.0 * b.imag)\n",
        "    z = np.real(2.0 * a - 1.0)\n",
        "\n",
        "    if makeVector:\n",
        "        old_marker = bb.point_marker\n",
        "        old_size = bb.point_size\n",
        "        old_point_color = bb.point_color\n",
        "\n",
        "        bb.vector_color = [] #clear the vector color list.\n",
        "        bb.vector_color = ['green'] * (len(bb.vectors) + 1)  # Ensure the list has enough elements\n",
        "\n",
        "        #bb.add_vectors([x, y, z])\n",
        "        bb.add_vectors([x, y, z])  # Pass color to add_vectors\n",
        "\n",
        "        bb.point_marker = ['*']\n",
        "        bb.point_color = ['blue']\n",
        "\n",
        "        bb.add_points([x, y, z])\n",
        "        bb.point_marker = old_marker\n",
        "        bb.point_size = old_size\n",
        "        bb.point_color = old_point_color\n",
        "    else:\n",
        "        old_point_color = bb.point_color\n",
        "        bb.add_points([x, y, z])\n",
        "        bb.point_color = old_point_color\n",
        "\n",
        "    return\n",
        "\n",
        "\n",
        "\n",
        "def SetupBloch():\n",
        "  fig = plt.figure()\n",
        "\n",
        "#  ax = fig.add_subplot(111, projection='3d')\n",
        "  ax = fig.add_subplot(111,projection=\"3d\")\n",
        "  ax.view_init(-40, -15)\n",
        "\n",
        "\n",
        "  ax.set_aspect('equal')\n",
        "  ax.set_axis_off()\n",
        "  bb = qutip.Bloch(axes=ax)\n",
        "  #bb.point_color = ['red','orange','yellow','green','blue','purple']\n",
        "  #bb.point_color = ['red']\n",
        "  bb.point_marker = ['o']\n",
        "  bb.vector_color = ['green']\n",
        "  #bb.point_size = [15]\n",
        "  bb.point_mode = ['markers']\n",
        "  bb.frame_color = 'black'\n",
        "  bb.frame_width = 1\n",
        "  bb.frame_alpha = 0.5\n",
        "  bb.sphere_alpha = 0.1\n",
        "  bb.vector_width = 3\n",
        "  bb.alpha = 0.1\n",
        "  return bb\n",
        "\n",
        "\n",
        "\n",
        "def animate(i, states, sphere,plotPath=False):\n",
        "\n",
        "  sphere.clear()\n",
        "  #vv = states[i]\n",
        "  for vv in states[0:i]:\n",
        "    PlotBloch(vv, sphere, makeVector=False)\n",
        "  PlotBloch(states[i], sphere, makeVector=True)\n",
        "  return sphere.render()\n",
        "\n",
        "\n",
        "\n",
        "\n",
        "sigma_x = qutip.sigmax().full()\n",
        "sigma_y= qutip.sigmay().full()\n",
        "sigma_z = qutip.sigmaz().full()\n",
        "hbar=1"
      ]
    },
    {
      "cell_type": "markdown",
      "metadata": {
        "id": "TlHIWJoAx1WJ"
      },
      "source": [
        "## Exercise 1.  Time Dependence in the Schrodinger Picture"
      ]
    },
    {
      "cell_type": "markdown",
      "metadata": {
        "id": "wlOLgpufx1WJ"
      },
      "source": [
        "### a. The Hamiltonian"
      ]
    },
    {
      "cell_type": "markdown",
      "metadata": {
        "id": "fHd5WtqOx1WJ"
      },
      "source": [
        "In this assignment, we will consider time-dependent Hamiltonians of the form\n",
        "\n",
        "$$\n",
        "H = H_0  + V(t)\n",
        "$$\n",
        "\n",
        "where $H_0$ has no time-dependence and $V(t)$ depends on time.\n",
        "\n",
        "Let us define\n",
        "\n",
        "$$\n",
        "H_0 = E_0 |0\\rangle \\langle 0| + E_1 |1|\\rangle \\langle 1|\n",
        "$$\n",
        "\n",
        "where $E_0 = -0.4$ and $E_1=0.6$\n",
        "\n",
        "and\n",
        "\n",
        "$$\n",
        "V(t) =  \\delta/2 \\exp[i \\omega t] |0\\rangle \\langle 1| + \\delta/2 \\exp[-i \\omega t] |1 \\rangle \\langle 0|\n",
        "$$\n",
        "\n",
        "Define functions `build_H0()` and `build_V(t,delta,omega)` which returns these Hamiltonians. Notice that they are both 2x2 matrices."
      ]
    },
    {
      "cell_type": "markdown",
      "metadata": {
        "id": "sldhg6HSx1WK"
      },
      "source": [
        "<div><img src=\"https://clark.physics.illinois.edu/246img/AnsStart.svg\" width=200 align=left alt=\"Answer (start)\"></img><br></div>"
      ]
    },
    {
      "cell_type": "code",
      "execution_count": null,
      "metadata": {
        "tags": [
          "answer-cell"
        ],
        "id": "SuqLY2evx1WK"
      },
      "outputs": [],
      "source": [
        "###ANSWER HERE"
      ]
    },
    {
      "cell_type": "markdown",
      "metadata": {
        "id": "NtCIBHCwx1WK"
      },
      "source": [
        "<div><img src=\"https://clark.physics.illinois.edu/246img/AnsEnd.svg\" width=200 align=left alt=\"Answer (start)\"></img><br></div>"
      ]
    },
    {
      "cell_type": "markdown",
      "metadata": {
        "id": "upaAR4qnx1WK"
      },
      "source": [
        "### b. Time Evolution"
      ]
    },
    {
      "cell_type": "markdown",
      "metadata": {
        "id": "FRzwOzFux1WK"
      },
      "source": [
        "The most straightforward way to implement time-evolution is to directly use the time-dependent Schrodinger equation\n",
        "\n",
        "$$\n",
        "i \\hbar \\frac{\\partial \\psi }{\\partial t} = H \\psi\n",
        "$$\n",
        "\n",
        "which we can turn into a dynamical equation of motion as\n",
        "\n",
        "$$\n",
        "\\psi(t + \\delta t) =  e^{-i\\hbar H(t)  \\delta t} \\psi(t)\n",
        "$$\n",
        "\n",
        "\n",
        "You can assume throughout this assignment that we are working in units where $\\hbar=1$\n",
        "\n",
        "Write a function `SchrodingerTimeEvolution(T,dt,omega,delta)` which takes a total time $T$ and a time step $dt$ and the values of $\\delta$ and $\\omega$ for the driving potential. It should then perform Schrodinger evolution starting with a configuration that is in state  $|0\\rangle$ (i.e. `state = np.array([1,0])`).  It should return a list of times (`ts=np.arange(0,T,dt)`) and the state  (e.g. 2x1 vectors) at each time-step.\n",
        "\n",
        "\n",
        "To do this, you want to\n",
        "\n",
        "*  Define the Hamiltonian $H_0$.  This should be a 2x2 matrix.\n",
        "* Define the initial state $\\Psi(t) = [1,0]$\n",
        "\n",
        "*  Looping over the time-steps\n",
        "    * Get the matrix $H(t)=H_0 + V(t)$\n",
        "    * Define the time-evolution matrix  $M(t) \\equiv e^{-i H \\delta t}$  - i.e. `scipy.linalg.expm(H_t)`\n",
        "    * Apply $M(t)$ to the current state to get the new state.\n",
        "    * Store in a list the current state.\n",
        "\n",
        "\n",
        "Call your function with\n",
        "* T=17.0\n",
        "* $dt$ = 0.001\n",
        "* $\\omega = 1.3$\n",
        "* $\\delta = 0.2$\n",
        "\n",
        "You are then going to want to plot two things:\n",
        "\n",
        "(1) The probability that the state is in one - i.e. `np.abs(state[1])**2` as a function of time.\n",
        "\n",
        "(2) The location of the state on the bloch sphere.  To do this you can do\n",
        "\n",
        "```\n",
        "bb=SetupBloch()\n",
        "for state in states[::100]:\n",
        "    PlotBloch(state,bb,makeVector=False)\n",
        "bb.render()\n",
        "plt.show()\n",
        "```\n",
        "\n",
        "(3) Animate it.  To do that you can do\n",
        "\n",
        "```\n",
        "sphere=SetupBloch()\n",
        "anim = FuncAnimation(plt.gcf(), animate, frames=len(states[::100]), fargs=(states[::100], sphere,True), blit=False,interval=50, repeat=False)\n",
        "display(HTML(anim.to_jshtml()))\n",
        "plt.close()\n",
        "```\n",
        "\n"
      ]
    },
    {
      "cell_type": "markdown",
      "metadata": {
        "id": "vOV5Ol0Gx1WL"
      },
      "source": [
        "<div><img src=\"https://clark.physics.illinois.edu/246img/AnsStart.svg\" width=200 align=left alt=\"Answer (start)\"></img><br></div>"
      ]
    },
    {
      "cell_type": "code",
      "execution_count": null,
      "metadata": {
        "tags": [
          "answer-cell"
        ],
        "id": "iHlhAFl-x1WL"
      },
      "outputs": [],
      "source": [
        "###ANSWER HERE"
      ]
    },
    {
      "cell_type": "code",
      "execution_count": null,
      "metadata": {
        "tags": [
          "answer-cell"
        ],
        "id": "0EKvi3FVx1WL"
      },
      "outputs": [],
      "source": [
        "###ANSWER HERE"
      ]
    },
    {
      "cell_type": "code",
      "execution_count": null,
      "metadata": {
        "tags": [
          "answer-cell"
        ],
        "id": "7QATP1Q-x1WL"
      },
      "outputs": [],
      "source": [
        "###ANSWER HERE"
      ]
    },
    {
      "cell_type": "markdown",
      "metadata": {
        "id": "2WZ1LTTzx1WL"
      },
      "source": [
        "<div><img src=\"https://clark.physics.illinois.edu/246img/AnsEnd.svg\" width=200 align=left alt=\"Answer (start)\"></img><br></div>"
      ]
    },
    {
      "cell_type": "markdown",
      "metadata": {
        "id": "t-TMCatVx1WL"
      },
      "source": [
        "### c.  The Interaction Picture"
      ]
    },
    {
      "cell_type": "markdown",
      "metadata": {
        "id": "SPRbE-Dfx1WL"
      },
      "source": [
        "Given the states represented in the Schrodinger picture, it's possible to convert them into the interaction picture.  The interaction picture essentially takes away the rotation due to the non-interacting Hamiltonian.  The way to make this conversion is to do\n",
        "\n",
        "$$\n",
        "  \\Psi_\\textrm{interaction}  = \\exp\\left(\\frac{i}{\\hbar} t H_0 \\right)\\Psi_\\textrm{schrodinger}\n",
        "$$\n",
        "\n",
        "Write a function `S2I(psi,t,H0)` which takes the non-interacting Hamiltonian and the state in the Schrodinger picture and gives back the state in the interaction picture.  Use this function to convert all the Schrodinger picture states into Interaction picture states.   Then plot (and animate) the interaction picture states on the Bloch sphere.  What is different about these states?"
      ]
    },
    {
      "cell_type": "markdown",
      "metadata": {
        "id": "7D_duUOxx1WL"
      },
      "source": [
        "<div><img src=\"https://clark.physics.illinois.edu/246img/AnsStart.svg\" width=200 align=left alt=\"Answer (start)\"></img><br></div>"
      ]
    },
    {
      "cell_type": "code",
      "execution_count": null,
      "metadata": {
        "tags": [
          "answer-cell"
        ],
        "id": "ttcjYm2vx1WM"
      },
      "outputs": [],
      "source": [
        "###ANSWER HERE"
      ]
    },
    {
      "cell_type": "code",
      "execution_count": null,
      "metadata": {
        "tags": [
          "answer-cell"
        ],
        "id": "Yy93iBcFx1WM"
      },
      "outputs": [],
      "source": [
        "###ANSWER HERE"
      ]
    },
    {
      "cell_type": "markdown",
      "metadata": {
        "id": "OJtJxXm1x1WM"
      },
      "source": [
        "<div><img src=\"https://clark.physics.illinois.edu/246img/AnsEnd.svg\" width=200 align=left alt=\"Answer (start)\"></img><br></div>"
      ]
    },
    {
      "cell_type": "markdown",
      "metadata": {
        "id": "B8MKQCBix1WM"
      },
      "source": [
        "## Exercise 2. Time evolving in the Interaction Picture"
      ]
    },
    {
      "cell_type": "markdown",
      "metadata": {
        "id": "p8wxaujQx1WM"
      },
      "source": [
        "### a. Time evolving in the interaction picture"
      ]
    },
    {
      "cell_type": "markdown",
      "metadata": {
        "id": "rXFs4tgMx1WM"
      },
      "source": [
        "In the previous problem, we time-evolved in the Schrodinger picture.  In this problem we are going to time-evolve directly in the interaction picture.    First let us derive this.\n",
        "\n",
        "Consider a Hamiltonian\n",
        "\n",
        "$$\n",
        "H = H_0 + V(t)\n",
        "$$\n",
        "\n",
        "where\n",
        "\n",
        "$$\n",
        "|\\psi(t) \\rangle_I =  e^{iH_0 t/\\hbar} |\\psi(t)\\rangle_S\n",
        "$$\n",
        "\n",
        "where $|\\psi(t)\\rangle_S$ is the time-dependent wave-function in the Schrodinger picture and $|\\psi(0)\\rangle_S  = \\psi(0)\\rangle_I$\n",
        "\n",
        "Then we find that\n",
        "\n",
        "$$\n",
        "i\\hbar \\partial_t |\\psi(t)\\rangle_I = V_I(t) |\\psi(t)\\rangle_I\n",
        "$$\n",
        "\n",
        "where\n",
        "\n",
        "$$\n",
        "V_I(t)  = e^{iH_0 t /\\hbar}V e^{-i H_0 t/\\hbar}\n",
        "$$\n",
        "\n",
        "\n",
        "Solving, we get a series of first order differential equations\n",
        "\n",
        "$$\n",
        "i\\hbar \\dot{c_m}(t) = \\sum_n V_{mn}(t) e^{i\\omega_{mn}t}c_n(t)\n",
        "$$\n",
        "\n",
        "where $\\omega_{mn} \\equiv  (E_m-E_n)/\\hbar$\n",
        "\n",
        "which we can now write as\n",
        "\n",
        "$$\n",
        "c_m(t+dt)= c_m(t) + dt \\sum_n V_{mn}(t) e^{i\\omega_{mn}t}c_n(t)\n",
        "$$\n",
        "\n",
        "Now write a function `InteractionTimeEvolution(T,dt,omega,delta)` which uses this equation of motion to time-evolve in the interaction picture returning both the list of times and the list of states.  Using the PlotBloch function go ahead and plot this evolution on the Bloch sphere.\n"
      ]
    },
    {
      "cell_type": "markdown",
      "metadata": {
        "id": "V4xziYh5x1WM"
      },
      "source": [
        "<div><img src=\"https://clark.physics.illinois.edu/246img/AnsStart.svg\" width=200 align=left alt=\"Answer (start)\"></img><br></div>"
      ]
    },
    {
      "cell_type": "code",
      "execution_count": null,
      "metadata": {
        "tags": [
          "answer-cell"
        ],
        "id": "Hz50G9zex1WM"
      },
      "outputs": [],
      "source": [
        "###ANSWER HERE"
      ]
    },
    {
      "cell_type": "code",
      "execution_count": null,
      "metadata": {
        "tags": [
          "answer-cell"
        ],
        "id": "yvA2fatGx1WM"
      },
      "outputs": [],
      "source": [
        "###ANSWER HERE"
      ]
    },
    {
      "cell_type": "markdown",
      "metadata": {
        "id": "z0bFI9c8x1WN"
      },
      "source": [
        "<div><img src=\"https://clark.physics.illinois.edu/246img/AnsEnd.svg\" width=200 align=left alt=\"Answer (start)\"></img><br></div>|"
      ]
    },
    {
      "cell_type": "markdown",
      "metadata": {
        "id": "RzibgbT3x1WN"
      },
      "source": [
        "### b. Transforming to the Schrodinger Picture"
      ]
    },
    {
      "cell_type": "markdown",
      "metadata": {
        "id": "SFUPVs9nx1WN"
      },
      "source": [
        "Now go ahead and write a function `I2S(psi,t,H0)` to transform an interaction-picture state to a schrodinger-picture state.  Then use your function to convert all the states generated in part (a) to the Schrodinger picture. After you do this conversion,\n",
        "\n",
        "* plot the probability of the state being in $|1\\rangle$.\n",
        "* the state on the Bloch sphere\n",
        "  "
      ]
    },
    {
      "cell_type": "markdown",
      "metadata": {
        "id": "S_QUdW27x1WN"
      },
      "source": [
        "<div><img src=\"https://clark.physics.illinois.edu/246img/AnsStart.svg\" width=200 align=left alt=\"Answer (start)\"></img><br></div>"
      ]
    },
    {
      "cell_type": "code",
      "execution_count": null,
      "metadata": {
        "tags": [
          "answer-cell"
        ],
        "id": "6MFxHBWux1WN"
      },
      "outputs": [],
      "source": [
        "###ANSWER HERE"
      ]
    },
    {
      "cell_type": "markdown",
      "metadata": {
        "id": "HhnsM2_Kx1WN"
      },
      "source": [
        "<div><img src=\"https://clark.physics.illinois.edu/246img/AnsEnd.svg\" width=200 align=left alt=\"Answer (start)\"></img><br></div>"
      ]
    },
    {
      "cell_type": "markdown",
      "metadata": {
        "id": "6Q0rnsHJx1WN"
      },
      "source": [
        "### c. Probability to reach $|1\\rangle$"
      ]
    },
    {
      "cell_type": "markdown",
      "metadata": {
        "id": "IExFYinVx1WN"
      },
      "source": [
        "Let's measure the maximum probability that you get to $|1\\rangle$ as a function of $\\Delta \\omega \\equiv \\omega - \\omega_{10}$ - i.e.  `omega - (E[1]-E[0])/hbar`.  To do this, you want to let the maximum $T=50$.\n",
        "\n",
        "Change $\\omega$ from 0.1 to 1.9 in small incremements and then plot the maximum probability to get $|1\\rangle$ versus $\\Delta \\omega$.\n",
        "\n",
        "Also plot the probability of being at $|1\\rangle$ at $T=8.3$ as a function of $\\Delta \\omega$"
      ]
    },
    {
      "cell_type": "markdown",
      "metadata": {
        "id": "jf9WWJt2x1WN"
      },
      "source": [
        "<div><img src=\"https://clark.physics.illinois.edu/246img/AnsStart.svg\" width=200 align=left alt=\"Answer (start)\"></img><br></div>"
      ]
    },
    {
      "cell_type": "code",
      "execution_count": null,
      "metadata": {
        "tags": [
          "answer-cell"
        ],
        "id": "HOBFu3a9x1WQ"
      },
      "outputs": [],
      "source": [
        "###ANSWER HERE"
      ]
    },
    {
      "cell_type": "code",
      "execution_count": null,
      "metadata": {
        "tags": [
          "answer-cell"
        ],
        "id": "FFWcuFBRx1WY"
      },
      "outputs": [],
      "source": [
        "###ANSWER HERE"
      ]
    },
    {
      "cell_type": "markdown",
      "metadata": {
        "id": "OO8r_WMyx1WY"
      },
      "source": [
        "<div><img src=\"https://clark.physics.illinois.edu/246img/AnsEnd.svg\" width=200 align=left alt=\"Answer (start)\"></img><br></div>"
      ]
    },
    {
      "cell_type": "markdown",
      "metadata": {
        "id": "g2n359Ujx1WY"
      },
      "source": [
        "## Exercise 3.  Time dependent perturbation theory"
      ]
    },
    {
      "cell_type": "markdown",
      "metadata": {
        "id": "rv0MZrncx1WZ"
      },
      "source": [
        "### a. Probability (at first order) to jump to state $|1\\rangle$"
      ]
    },
    {
      "cell_type": "markdown",
      "metadata": {
        "id": "n6prcIPVx1WZ"
      },
      "source": [
        "We are now going to evaluate these probabilities using time-dependent perturbation theory.\n",
        "\n",
        "Time-dependent perturbation theory tells us that, to first order, the probability of going from state $m \\rightarrow n$ is\n",
        "\n",
        "$$\n",
        "P_{m\\leftarrow n }^{(1)}(t) = \\left|\\int_0^{t}e^{i\\omega_{mn}t'}\\frac{V_{mn}(t')}{i\\hbar}dt'\\right|^2\n",
        "$$\n",
        "\n",
        "Write a function `Prob_10(T,dt,omega,delta)` which gives the first order probability for going from $0 \\rightarrow 1$ returning both the times and these probabilities.   You may find it useful to use `np.cumsum` to do the integral out to different $t$.  \n",
        "\n",
        "Using $T=40$,  graph that probability as a function of time and plot it on top of the actual probabilities.\n",
        "\n",
        "Print out $T=2\\pi/\\Delta \\omega$ and $ | |V|/\\hbar \\Delta \\omega|^2 $ and see that this corresponds to the wave-length and height of the first-order perturbation terms."
      ]
    },
    {
      "cell_type": "markdown",
      "metadata": {
        "id": "QvgFn-6dx1WZ"
      },
      "source": [
        "<div><img src=\"https://clark.physics.illinois.edu/246img/AnsStart.svg\" width=200 align=left alt=\"Answer (start)\"></img><br></div>"
      ]
    },
    {
      "cell_type": "code",
      "execution_count": null,
      "metadata": {
        "tags": [
          "answer-cell"
        ],
        "id": "Q-xdCK4Vx1WZ"
      },
      "outputs": [],
      "source": [
        "###ANSWER HERE"
      ]
    },
    {
      "cell_type": "markdown",
      "metadata": {
        "id": "yu85nhe9x1WZ"
      },
      "source": [
        "<div><img src=\"https://clark.physics.illinois.edu/246img/AnsEnd.svg\" width=200 align=left alt=\"Answer (start)\"></img><br></div>"
      ]
    },
    {
      "cell_type": "markdown",
      "metadata": {
        "id": "OwT0aMJBx1WZ"
      },
      "source": [
        "### b. Probability (at first order) to jump to state $|1\\rangle$ using the formula"
      ]
    },
    {
      "cell_type": "markdown",
      "metadata": {
        "id": "0SDUeJV5x1WZ"
      },
      "source": [
        "In exercise (a), we computed the first order perturbative correction using a general formula where we needed to take an integral.  For this specific problem, Griffith's has done the integral analytically and worked out a general formula,\n",
        "\n",
        "$$\n",
        "P_{10} = -i \\frac{\\delta}{\\hbar} \\frac{\\sin(\\Delta \\omega t/2)}{\\Delta \\omega } e^{i\\Delta \\omega t/2}\n",
        "$$\n",
        "\n",
        "Write a function  `Prob_10_formula(T,dt,omega,delta)` that generates these probabilities using the formula and make sure it matches your results from exercise (a)."
      ]
    },
    {
      "cell_type": "markdown",
      "metadata": {
        "id": "qAo-Zva5x1WZ"
      },
      "source": [
        "<div><img src=\"https://clark.physics.illinois.edu/246img/AnsStart.svg\" width=200 align=left alt=\"Answer (start)\"></img><br></div>"
      ]
    },
    {
      "cell_type": "code",
      "execution_count": null,
      "metadata": {
        "tags": [
          "answer-cell"
        ],
        "id": "ujAtqc6Rx1WZ"
      },
      "outputs": [],
      "source": [
        "###ANSWER HERE"
      ]
    },
    {
      "cell_type": "markdown",
      "metadata": {
        "id": "RNBk8MAAx1Wa"
      },
      "source": [
        "<div><img src=\"https://clark.physics.illinois.edu/246img/AnsEnd.svg\" width=200 align=left alt=\"Answer (start)\"></img><br></div>"
      ]
    },
    {
      "cell_type": "markdown",
      "metadata": {
        "id": "cYO-ihllx1Wa"
      },
      "source": [
        "### c. Maximum Probabability and Probability at $T=8.3$"
      ]
    },
    {
      "cell_type": "markdown",
      "metadata": {
        "id": "4SmGcGLDx1Wa"
      },
      "source": [
        "At first order, let's measure the maximum probability that you get to $|1\\rangle$ as a function of $\\Delta \\omega \\equiv \\omega - \\omega_{10}$ - i.e.  `omega - (E[1]-E[0])/hbar`.  \n",
        "\n",
        "Change $\\omega$ from 0.1 to 5.0 in small incremements and then plot the probability versus $\\Delta \\omega$.\n",
        "\n",
        "Also plot the probability of being at $|1\\rangle$ at $T=8.3$ as a function of $\\Delta \\omega$  Compare it against the exact answer by plotting it on the same plot."
      ]
    },
    {
      "cell_type": "markdown",
      "metadata": {
        "id": "RYHo6Hsjx1Wa"
      },
      "source": [
        "<div><img src=\"https://clark.physics.illinois.edu/246img/AnsStart.svg\" width=200 align=left alt=\"Answer (start)\"></img><br></div>"
      ]
    },
    {
      "cell_type": "code",
      "execution_count": null,
      "metadata": {
        "tags": [
          "answer-cell"
        ],
        "id": "VC8Xdbx5x1Wa"
      },
      "outputs": [],
      "source": [
        "###ANSWER HERE"
      ]
    },
    {
      "cell_type": "code",
      "execution_count": null,
      "metadata": {
        "tags": [
          "answer-cell"
        ],
        "id": "n_YpA7RRx1Wa"
      },
      "outputs": [],
      "source": [
        "###ANSWER HERE"
      ]
    },
    {
      "cell_type": "markdown",
      "metadata": {
        "id": "xiQIBzDOx1Wa"
      },
      "source": [
        "<div><img src=\"https://clark.physics.illinois.edu/246img/AnsEnd.svg\" width=200 align=left alt=\"Answer (start)\"></img><br></div>"
      ]
    },
    {
      "cell_type": "markdown",
      "metadata": {
        "id": "fTZSYpdSx1Wa"
      },
      "source": [
        "## Printing as PDF\n",
        "\n",
        "Hopefully just printing to pdf creates a nice version of your document to submit.\n",
        "\n",
        "If that is not the case, here is a robust albeit somewhat complicated solution that has worked in previous years:\n",
        "\n",
        "Insert this snippet at the bottom of your notebook\n",
        "\n",
        "``\n",
        "from google.colab import drive\n",
        "``\n",
        "\n",
        "``\n",
        "drive.mount('/content/drive')\n",
        "``\n",
        "\n",
        "Refresh your files tab (the folder icon on the left panel of the screen)\n",
        "\n",
        "Paste this code at the end of your notebook, with the appropriate path\n",
        "\n",
        "``\n",
        "!jupyter nbconvert --to html \"/content/drive/MyDrive/PathToAssignment/AssignmentName.ipynb\"\n",
        "``\n",
        "\n",
        "This should generate an html file for your Jupyter notebook, which is saved in your drive.\n",
        "Print this generated html file to a pdf file and submit it to canvas."
      ]
    },
    {
      "cell_type": "markdown",
      "metadata": {
        "id": "fRzIf0tzx1Wa"
      },
      "source": []
    }
  ],
  "metadata": {
    "kernelspec": {
      "display_name": "labcore",
      "language": "python",
      "name": "python3"
    },
    "language_info": {
      "codemirror_mode": {
        "name": "ipython",
        "version": 3
      },
      "file_extension": ".py",
      "mimetype": "text/x-python",
      "name": "python",
      "nbconvert_exporter": "python",
      "pygments_lexer": "ipython3",
      "version": "3.10.15"
    },
    "colab": {
      "provenance": []
    }
  },
  "nbformat": 4,
  "nbformat_minor": 0
}